{
 "cells": [
  {
   "cell_type": "markdown",
   "metadata": {},
   "source": [
    "# LangChain v1 RAG Application Examples\n",
    "\n",
    "This notebook demonstrates usage patterns for the refactored RAG application using **LangChain v1**.\n",
    "\n",
    "## Contents\n",
    "1. Setup and Initialization\n",
    "2. Document Ingestion Patterns\n",
    "3. RAG Chat with Agents\n",
    "4. Advanced Agent Patterns\n",
    "5. Retriever Customization\n",
    "6. Conversation Memory\n",
    "7. Structured Outputs\n",
    "8. Error Handling and Observability"
   ]
  },
  {
   "cell_type": "markdown",
   "metadata": {},
   "source": [
    "## 1. Setup and Initialization"
   ]
  },
  {
   "cell_type": "code",
   "execution_count": 1,
   "metadata": {},
   "outputs": [
    {
     "name": "stderr",
     "output_type": "stream",
     "text": [
      "\u001b[32m2025-10-16 21:05:32.193\u001b[0m | \u001b[1mINFO    \u001b[0m | \u001b[36macc_llamaindex.application.ingest_documents_service.service\u001b[0m:\u001b[36m__init__\u001b[0m:\u001b[36m38\u001b[0m - \u001b[1mIngestDocumentsService initialized with documents_path: /Users/kevinknox/coding/acc-llamaindex/data/documents\u001b[0m\n",
      "\u001b[32m2025-10-16 21:05:32.240\u001b[0m | \u001b[1mINFO    \u001b[0m | \u001b[36macc_llamaindex.application.chat_service.service\u001b[0m:\u001b[36m__init__\u001b[0m:\u001b[36m18\u001b[0m - \u001b[1mChatService initialized\u001b[0m\n"
     ]
    },
    {
     "name": "stdout",
     "output_type": "stream",
     "text": [
      "✓ All imports successful\n"
     ]
    }
   ],
   "source": [
    "# Add project root to path\n",
    "import sys\n",
    "from pathlib import Path\n",
    "sys.path.insert(0, str(Path.cwd().parent / 'src'))\n",
    "\n",
    "# Load environment variables\n",
    "from dotenv import load_dotenv\n",
    "load_dotenv()\n",
    "\n",
    "# Verify imports\n",
    "from acc_llamaindex.config import config\n",
    "from acc_llamaindex.infrastructure.llm_providers.langchain_provider import get_llm, get_embeddings\n",
    "from acc_llamaindex.infrastructure.db.chroma_client import chroma_client\n",
    "from acc_llamaindex.application.ingest_documents_service.service import ingest_service\n",
    "from acc_llamaindex.application.chat_service.service import chat_service\n",
    "\n",
    "print(\"✓ All imports successful\")"
   ]
  },
  {
   "cell_type": "markdown",
   "metadata": {},
   "source": [
    "## 2. Document Ingestion Patterns\n",
    "\n",
    "### Pattern 1: Basic Document Ingestion"
   ]
  },
  {
   "cell_type": "code",
   "execution_count": 2,
   "metadata": {},
   "outputs": [
    {
     "name": "stderr",
     "output_type": "stream",
     "text": [
      "\u001b[32m2025-10-16 21:05:34.369\u001b[0m | \u001b[1mINFO    \u001b[0m | \u001b[36macc_llamaindex.infrastructure.llm_providers.langchain_provider\u001b[0m:\u001b[36m_initialize_llm\u001b[0m:\u001b[36m61\u001b[0m - \u001b[1mInitializing LLM with provider: openai\u001b[0m\n",
      "\u001b[32m2025-10-16 21:05:34.598\u001b[0m | \u001b[1mINFO    \u001b[0m | \u001b[36macc_llamaindex.infrastructure.llm_providers.openai_provider\u001b[0m:\u001b[36minitialize_llm\u001b[0m:\u001b[36m28\u001b[0m - \u001b[1mInitializing ChatOpenAI with model: gpt-5-nano-2025-08-07\u001b[0m\n",
      "\u001b[32m2025-10-16 21:05:34.708\u001b[0m | \u001b[1mINFO    \u001b[0m | \u001b[36macc_llamaindex.infrastructure.llm_providers.openai_provider\u001b[0m:\u001b[36minitialize_llm\u001b[0m:\u001b[36m38\u001b[0m - \u001b[1mChatOpenAI initialized successfully\u001b[0m\n",
      "\u001b[32m2025-10-16 21:05:34.708\u001b[0m | \u001b[1mINFO    \u001b[0m | \u001b[36macc_llamaindex.infrastructure.llm_providers.langchain_provider\u001b[0m:\u001b[36m_initialize_embeddings\u001b[0m:\u001b[36m92\u001b[0m - \u001b[1mInitializing embeddings with provider: openai\u001b[0m\n",
      "\u001b[32m2025-10-16 21:05:34.708\u001b[0m | \u001b[1mINFO    \u001b[0m | \u001b[36macc_llamaindex.infrastructure.llm_providers.openai_provider\u001b[0m:\u001b[36minitialize_embeddings\u001b[0m:\u001b[36m50\u001b[0m - \u001b[1mInitializing OpenAIEmbeddings with model: text-embedding-3-small\u001b[0m\n",
      "\u001b[32m2025-10-16 21:05:34.728\u001b[0m | \u001b[1mINFO    \u001b[0m | \u001b[36macc_llamaindex.infrastructure.llm_providers.openai_provider\u001b[0m:\u001b[36minitialize_embeddings\u001b[0m:\u001b[36m57\u001b[0m - \u001b[1mOpenAIEmbeddings initialized successfully\u001b[0m\n",
      "\u001b[32m2025-10-16 21:05:34.728\u001b[0m | \u001b[1mINFO    \u001b[0m | \u001b[36macc_llamaindex.infrastructure.db.chroma_client\u001b[0m:\u001b[36minitialize\u001b[0m:\u001b[36m20\u001b[0m - \u001b[1mInitializing ChromaDB at /Users/kevinknox/coding/acc-llamaindex/data/chroma_db\u001b[0m\n",
      "\u001b[32m2025-10-16 21:05:34.793\u001b[0m | \u001b[1mINFO    \u001b[0m | \u001b[36macc_llamaindex.infrastructure.db.chroma_client\u001b[0m:\u001b[36minitialize\u001b[0m:\u001b[36m37\u001b[0m - \u001b[1mChromaDB initialized successfully with collection: documents\u001b[0m\n"
     ]
    },
    {
     "name": "stdout",
     "output_type": "stream",
     "text": [
      "Documents path: /Users/kevinknox/coding/acc-llamaindex/data/documents\n",
      "ChromaDB path: /Users/kevinknox/coding/acc-llamaindex/data/chroma_db\n",
      "Chunk size: 1024, overlap: 200\n"
     ]
    }
   ],
   "source": [
    "# Initialize services\n",
    "get_llm()\n",
    "get_embeddings()\n",
    "chroma_client.initialize()\n",
    "\n",
    "print(f\"Documents path: {config.documents_path}\")\n",
    "print(f\"ChromaDB path: {config.chroma_db_path}\")\n",
    "print(f\"Chunk size: {config.chunk_size}, overlap: {config.chunk_overlap}\")"
   ]
  },
  {
   "cell_type": "code",
   "execution_count": 4,
   "metadata": {},
   "outputs": [
    {
     "name": "stderr",
     "output_type": "stream",
     "text": [
      "\u001b[32m2025-10-16 21:06:27.065\u001b[0m | \u001b[1mINFO    \u001b[0m | \u001b[36macc_llamaindex.application.ingest_documents_service.service\u001b[0m:\u001b[36mingest_documents_from_directory\u001b[0m:\u001b[36m78\u001b[0m - \u001b[1mStarting document ingestion from: /Users/kevinknox/coding/acc-llamaindex/data/documents\u001b[0m\n",
      "\u001b[32m2025-10-16 21:06:27.067\u001b[0m | \u001b[1mINFO    \u001b[0m | \u001b[36macc_llamaindex.application.ingest_documents_service.service\u001b[0m:\u001b[36mingest_documents_from_directory\u001b[0m:\u001b[36m91\u001b[0m - \u001b[1mFound 9 documents to process\u001b[0m\n",
      "\u001b[32m2025-10-16 21:06:27.068\u001b[0m | \u001b[1mINFO    \u001b[0m | \u001b[36macc_llamaindex.application.ingest_documents_service.service\u001b[0m:\u001b[36mingest_documents_from_directory\u001b[0m:\u001b[36m102\u001b[0m - \u001b[1mLoading document: langchain_intro.txt\u001b[0m\n",
      "\u001b[32m2025-10-16 21:06:27.068\u001b[0m | \u001b[1mINFO    \u001b[0m | \u001b[36macc_llamaindex.application.ingest_documents_service.service\u001b[0m:\u001b[36mingest_documents_from_directory\u001b[0m:\u001b[36m102\u001b[0m - \u001b[1mLoading document: AGOA Trade Fact Sheet_final.pdf\u001b[0m\n",
      "\u001b[32m2025-10-16 21:06:27.183\u001b[0m | \u001b[1mINFO    \u001b[0m | \u001b[36macc_llamaindex.application.ingest_documents_service.service\u001b[0m:\u001b[36mingest_documents_from_directory\u001b[0m:\u001b[36m102\u001b[0m - \u001b[1mLoading document: SA-Customs-Excise_Tariffs-Schedule-1.pdf\u001b[0m\n",
      "\u001b[32m2025-10-16 21:06:33.297\u001b[0m | \u001b[1mINFO    \u001b[0m | \u001b[36macc_llamaindex.application.ingest_documents_service.service\u001b[0m:\u001b[36mingest_documents_from_directory\u001b[0m:\u001b[36m102\u001b[0m - \u001b[1mLoading document: Annual Review of Country Eligibility for Benefits Under the African Growth and Opportunity Act for Calendar Year 2026.pdf\u001b[0m\n",
      "\u001b[32m2025-10-16 21:06:33.319\u001b[0m | \u001b[1mINFO    \u001b[0m | \u001b[36macc_llamaindex.application.ingest_documents_service.service\u001b[0m:\u001b[36mingest_documents_from_directory\u001b[0m:\u001b[36m102\u001b[0m - \u001b[1mLoading document: US Trade with sub_Saharan Africa 11162023_0.pdf\u001b[0m\n",
      "\u001b[32m2025-10-16 21:06:33.334\u001b[0m | \u001b[1mINFO    \u001b[0m | \u001b[36macc_llamaindex.application.ingest_documents_service.service\u001b[0m:\u001b[36mingest_documents_from_directory\u001b[0m:\u001b[36m102\u001b[0m - \u001b[1mLoading document: IncoDocs-Global-Trade-Toolkit225.pdf\u001b[0m\n",
      "\u001b[32m2025-10-16 21:06:34.317\u001b[0m | \u001b[1mINFO    \u001b[0m | \u001b[36macc_llamaindex.application.ingest_documents_service.service\u001b[0m:\u001b[36mingest_documents_from_directory\u001b[0m:\u001b[36m102\u001b[0m - \u001b[1mLoading document: PTB_Study_PVoC_Kenya_EN.pdf\u001b[0m\n",
      "\u001b[32m2025-10-16 21:06:34.532\u001b[0m | \u001b[1mINFO    \u001b[0m | \u001b[36macc_llamaindex.application.ingest_documents_service.service\u001b[0m:\u001b[36mingest_documents_from_directory\u001b[0m:\u001b[36m102\u001b[0m - \u001b[1mLoading document: List-of-Dual-Use-Goods-and-Technologies-Munitions-List-2023-1.pdf\u001b[0m\n",
      "\u001b[32m2025-10-16 21:06:36.367\u001b[0m | \u001b[1mINFO    \u001b[0m | \u001b[36macc_llamaindex.application.ingest_documents_service.service\u001b[0m:\u001b[36mingest_documents_from_directory\u001b[0m:\u001b[36m102\u001b[0m - \u001b[1mLoading document: incoterms-chart.pdf\u001b[0m\n",
      "\u001b[32m2025-10-16 21:06:36.370\u001b[0m | \u001b[1mINFO    \u001b[0m | \u001b[36macc_llamaindex.application.ingest_documents_service.service\u001b[0m:\u001b[36mingest_documents_from_directory\u001b[0m:\u001b[36m117\u001b[0m - \u001b[1mCreated 2937 text chunks from 9 documents\u001b[0m\n",
      "\u001b[32m2025-10-16 21:06:51.471\u001b[0m | \u001b[1mINFO    \u001b[0m | \u001b[36macc_llamaindex.application.ingest_documents_service.service\u001b[0m:\u001b[36mingest_documents_from_directory\u001b[0m:\u001b[36m123\u001b[0m - \u001b[1mSuccessfully added 2937 chunks to vector store\u001b[0m\n"
     ]
    },
    {
     "name": "stdout",
     "output_type": "stream",
     "text": [
      "Success: True\n",
      "Documents processed: 9\n",
      "Documents failed: 0\n",
      "Message: Successfully ingested 9 documents (2937 chunks)\n",
      "\n",
      "Collection stats: {'collection_name': 'documents', 'document_count': 11748, 'status': 'active'}\n"
     ]
    }
   ],
   "source": [
    "# Ingest documents from default directory\n",
    "result = ingest_service.ingest_documents_from_directory()\n",
    "\n",
    "print(f\"Success: {result.success}\")\n",
    "print(f\"Documents processed: {result.documents_processed}\")\n",
    "print(f\"Documents failed: {result.documents_failed}\")\n",
    "print(f\"Message: {result.message}\")\n",
    "print(f\"\\nCollection stats: {result.collection_stats}\")"
   ]
  },
  {
   "cell_type": "markdown",
   "metadata": {},
   "source": [
    "### Pattern 2: Ingest from Custom Directory"
   ]
  },
  {
   "cell_type": "code",
   "execution_count": null,
   "metadata": {},
   "outputs": [],
   "source": [
    "# Create custom directory with documents\n",
    "import tempfile\n",
    "import os\n",
    "\n",
    "temp_dir = tempfile.mkdtemp()\n",
    "\n",
    "# Create test documents\n",
    "test_doc = os.path.join(temp_dir, \"test.txt\")\n",
    "with open(test_doc, \"w\") as f:\n",
    "    f.write(\"This is a test document about artificial intelligence and machine learning.\")\n",
    "\n",
    "# Ingest from custom directory\n",
    "result = ingest_service.ingest_documents_from_directory(temp_dir)\n",
    "print(f\"Ingested {result.documents_processed} documents from custom directory\")\n",
    "\n",
    "# Cleanup\n",
    "import shutil\n",
    "shutil.rmtree(temp_dir)"
   ]
  },
  {
   "cell_type": "markdown",
   "metadata": {},
   "source": [
    "### Pattern 3: Ingest Single File"
   ]
  },
  {
   "cell_type": "code",
   "execution_count": null,
   "metadata": {},
   "outputs": [],
   "source": [
    "# Ingest a single file\n",
    "single_file = \"../data/documents/langchain_intro.txt\"\n",
    "result = ingest_service.ingest_single_file(single_file)\n",
    "\n",
    "print(f\"Success: {result.success}\")\n",
    "print(f\"Message: {result.message}\")"
   ]
  },
  {
   "cell_type": "markdown",
   "metadata": {},
   "source": [
    "## 3. RAG Chat with Agents\n",
    "\n",
    "### Pattern 1: Basic Chat"
   ]
  },
  {
   "cell_type": "code",
   "execution_count": null,
   "metadata": {},
   "outputs": [],
   "source": [
    "# Initialize chat service\n",
    "chat_service.initialize()\n",
    "\n",
    "# Simple chat query\n",
    "response = chat_service.chat(\"What is LangChain v1?\")\n",
    "\n",
    "print(f\"Success: {response['success']}\")\n",
    "print(f\"\\nResponse:\\n{response['response']}\")"
   ]
  },
  {
   "cell_type": "markdown",
   "metadata": {},
   "source": [
    "### Pattern 2: Chat with Conversation History"
   ]
  },
  {
   "cell_type": "code",
   "execution_count": null,
   "metadata": {},
   "outputs": [],
   "source": [
    "# Start a conversation\n",
    "conversation_history = []\n",
    "\n",
    "# First message\n",
    "response1 = chat_service.chat(\n",
    "    \"What are the key features of LangChain?\",\n",
    "    conversation_history=conversation_history\n",
    ")\n",
    "print(\"User: What are the key features of LangChain?\")\n",
    "print(f\"Assistant: {response1['response'][:200]}...\\n\")\n",
    "\n",
    "# Add to history\n",
    "conversation_history.extend([\n",
    "    {\"role\": \"user\", \"content\": \"What are the key features of LangChain?\"},\n",
    "    {\"role\": \"assistant\", \"content\": response1['response']}\n",
    "])\n",
    "\n",
    "# Follow-up message\n",
    "response2 = chat_service.chat(\n",
    "    \"Can you explain more about agents?\",\n",
    "    conversation_history=conversation_history\n",
    ")\n",
    "print(\"User: Can you explain more about agents?\")\n",
    "print(f\"Assistant: {response2['response'][:200]}...\")"
   ]
  },
  {
   "cell_type": "markdown",
   "metadata": {},
   "source": [
    "## 4. Advanced Agent Patterns\n",
    "\n",
    "### Pattern 1: Direct Agent Creation with Custom Tools"
   ]
  },
  {
   "cell_type": "code",
   "execution_count": null,
   "metadata": {},
   "outputs": [],
   "source": [
    "from langchain.agents import create_agent\n",
    "from langchain_core.tools import tool\n",
    "from datetime import datetime\n",
    "\n",
    "# Create custom tools\n",
    "@tool\n",
    "def get_current_time() -> str:\n",
    "    \"\"\"Get the current time in a human-readable format.\"\"\"\n",
    "    return datetime.now().strftime(\"%Y-%m-%d %H:%M:%S\")\n",
    "\n",
    "@tool\n",
    "def search_documents(query: str) -> str:\n",
    "    \"\"\"Search the document knowledge base for relevant information.\"\"\"\n",
    "    vector_store = chroma_client.get_vector_store()\n",
    "    docs = vector_store.similarity_search(query, k=3)\n",
    "    if not docs:\n",
    "        return \"No relevant documents found.\"\n",
    "    return \"\\n\\n\".join([doc.page_content for doc in docs])\n",
    "\n",
    "# Create agent with multiple tools\n",
    "llm = get_llm()\n",
    "agent = create_agent(\n",
    "    model=llm,\n",
    "    tools=[get_current_time, search_documents],\n",
    "    system_prompt=\"You are a helpful assistant with access to document search and time utilities.\"\n",
    ")\n",
    "\n",
    "# Test the agent\n",
    "response = agent.invoke({\n",
    "    \"messages\": [{\"role\": \"user\", \"content\": \"What time is it and what do the documents say about RAG?\"}]\n",
    "})\n",
    "\n",
    "print(\"Agent response:\")\n",
    "for msg in response[\"messages\"]:\n",
    "    if hasattr(msg, 'content') and msg.content:\n",
    "        print(f\"{msg.__class__.__name__}: {msg.content[:200]}...\")"
   ]
  },
  {
   "cell_type": "markdown",
   "metadata": {},
   "source": [
    "### Pattern 2: Agent with Dynamic Model Selection"
   ]
  },
  {
   "cell_type": "code",
   "execution_count": null,
   "metadata": {},
   "outputs": [],
   "source": [
    "from langchain.agents.middleware import wrap_model_call, ModelRequest\n",
    "from langchain_openai import ChatOpenAI\n",
    "\n",
    "# Create different models for different complexity\n",
    "basic_model = ChatOpenAI(model=\"gpt-5-nano-2025-08-07\", temperature=0.3)\n",
    "advanced_model = ChatOpenAI(model=\"gpt-4o-mini\", temperature=0.7)\n",
    "\n",
    "@wrap_model_call\n",
    "def dynamic_model_selection(request: ModelRequest, handler):\n",
    "    \"\"\"Select model based on message count.\"\"\"\n",
    "    message_count = len(request.state[\"messages\"])\n",
    "    \n",
    "    # Use advanced model for complex conversations\n",
    "    if message_count > 5:\n",
    "        print(f\"Using advanced model (message count: {message_count})\")\n",
    "        request.model = advanced_model\n",
    "    else:\n",
    "        print(f\"Using basic model (message count: {message_count})\")\n",
    "        request.model = basic_model\n",
    "    \n",
    "    return handler(request)\n",
    "\n",
    "# Create agent with dynamic model selection\n",
    "agent = create_agent(\n",
    "    model=basic_model,\n",
    "    tools=[search_documents],\n",
    "    middleware=[dynamic_model_selection]\n",
    ")\n",
    "\n",
    "# Test with simple query\n",
    "response = agent.invoke({\"messages\": [{\"role\": \"user\", \"content\": \"Hello!\"}]})\n",
    "print(\"\\nSimple query completed\")"
   ]
  },
  {
   "cell_type": "markdown",
   "metadata": {},
   "source": [
    "## 5. Retriever Customization\n",
    "\n",
    "### Pattern 1: Custom Retriever with Score Threshold"
   ]
  },
  {
   "cell_type": "code",
   "execution_count": null,
   "metadata": {},
   "outputs": [],
   "source": [
    "# Get vector store\n",
    "vector_store = chroma_client.get_vector_store()\n",
    "\n",
    "# Similarity search with scores\n",
    "query = \"What is retrieval-augmented generation?\"\n",
    "results = vector_store.similarity_search_with_score(query, k=5)\n",
    "\n",
    "print(f\"Query: {query}\\n\")\n",
    "for i, (doc, score) in enumerate(results, 1):\n",
    "    print(f\"Result {i} (score: {score:.4f}):\")\n",
    "    print(f\"{doc.page_content[:150]}...\\n\")"
   ]
  },
  {
   "cell_type": "markdown",
   "metadata": {},
   "source": [
    "### Pattern 2: Multi-Query Retrieval"
   ]
  },
  {
   "cell_type": "code",
   "execution_count": null,
   "metadata": {},
   "outputs": [],
   "source": [
    "# Multiple related queries\n",
    "queries = [\n",
    "    \"What is LangChain?\",\n",
    "    \"How do agents work?\",\n",
    "    \"What are the benefits of RAG?\"\n",
    "]\n",
    "\n",
    "all_results = []\n",
    "for query in queries:\n",
    "    results = vector_store.similarity_search(query, k=2)\n",
    "    all_results.extend(results)\n",
    "\n",
    "# Deduplicate based on content\n",
    "unique_docs = {}\n",
    "for doc in all_results:\n",
    "    unique_docs[doc.page_content[:100]] = doc\n",
    "\n",
    "print(f\"Retrieved {len(unique_docs)} unique documents from {len(queries)} queries\")\n",
    "for i, doc in enumerate(list(unique_docs.values())[:3], 1):\n",
    "    print(f\"\\nDocument {i}:\")\n",
    "    print(f\"{doc.page_content[:150]}...\")"
   ]
  },
  {
   "cell_type": "markdown",
   "metadata": {},
   "source": [
    "## 6. Conversation Memory\n",
    "\n",
    "### Pattern 1: Persistent Conversation with Checkpointer"
   ]
  },
  {
   "cell_type": "code",
   "execution_count": null,
   "metadata": {},
   "outputs": [],
   "source": [
    "from langgraph.checkpoint.memory import InMemorySaver\n",
    "from langchain_core.runnables import RunnableConfig\n",
    "\n",
    "# Create agent with memory\n",
    "checkpointer = InMemorySaver()\n",
    "\n",
    "agent = create_agent(\n",
    "    model=get_llm(),\n",
    "    tools=[search_documents],\n",
    "    checkpointer=checkpointer,\n",
    "    system_prompt=\"You are a helpful assistant. Remember the conversation context.\"\n",
    ")\n",
    "\n",
    "# Conversation thread\n",
    "config: RunnableConfig = {\"configurable\": {\"thread_id\": \"user-123\"}}\n",
    "\n",
    "# First message\n",
    "response1 = agent.invoke(\n",
    "    {\"messages\": [{\"role\": \"user\", \"content\": \"My name is Alice\"}]},\n",
    "    config\n",
    ")\n",
    "print(\"User: My name is Alice\")\n",
    "print(f\"Assistant: {[m for m in response1['messages'] if hasattr(m, 'content')][-1].content[:100]}...\\n\")\n",
    "\n",
    "# Second message (should remember name)\n",
    "response2 = agent.invoke(\n",
    "    {\"messages\": [{\"role\": \"user\", \"content\": \"What's my name?\"}]},\n",
    "    config\n",
    ")\n",
    "print(\"User: What's my name?\")\n",
    "print(f\"Assistant: {[m for m in response2['messages'] if hasattr(m, 'content')][-1].content}\")"
   ]
  },
  {
   "cell_type": "markdown",
   "metadata": {},
   "source": [
    "## 7. Structured Outputs\n",
    "\n",
    "### Pattern 1: Extract Structured Data from Documents"
   ]
  },
  {
   "cell_type": "code",
   "execution_count": null,
   "metadata": {},
   "outputs": [],
   "source": [
    "from pydantic import BaseModel, Field\n",
    "from langchain.agents.structured_output import ToolStrategy\n",
    "\n",
    "# Define schema\n",
    "class DocumentSummary(BaseModel):\n",
    "    \"\"\"Summary of document content.\"\"\"\n",
    "    title: str = Field(description=\"Main topic or title\")\n",
    "    key_points: list[str] = Field(description=\"List of key points mentioned\")\n",
    "    category: str = Field(description=\"Document category (e.g., technical, guide, reference)\")\n",
    "\n",
    "# Create agent with structured output\n",
    "agent = create_agent(\n",
    "    model=get_llm(),\n",
    "    tools=[search_documents],\n",
    "    response_format=ToolStrategy(DocumentSummary)\n",
    ")\n",
    "\n",
    "# Get structured response\n",
    "response = agent.invoke({\n",
    "    \"messages\": [{\"role\": \"user\", \"content\": \"Summarize what the documents say about LangChain\"}]\n",
    "})\n",
    "\n",
    "if \"structured_response\" in response:\n",
    "    summary = response[\"structured_response\"]\n",
    "    print(f\"Title: {summary.title}\")\n",
    "    print(f\"Category: {summary.category}\")\n",
    "    print(f\"\\nKey Points:\")\n",
    "    for i, point in enumerate(summary.key_points, 1):\n",
    "        print(f\"{i}. {point}\")"
   ]
  },
  {
   "cell_type": "markdown",
   "metadata": {},
   "source": [
    "## 8. Error Handling and Observability\n",
    "\n",
    "### Pattern 1: Graceful Error Handling"
   ]
  },
  {
   "cell_type": "code",
   "execution_count": null,
   "metadata": {},
   "outputs": [],
   "source": [
    "from langchain.agents.middleware import wrap_tool_call\n",
    "from langchain_core.messages import ToolMessage\n",
    "\n",
    "@wrap_tool_call\n",
    "def handle_tool_errors(request, handler):\n",
    "    \"\"\"Catch and handle tool execution errors.\"\"\"\n",
    "    try:\n",
    "        return handler(request)\n",
    "    except Exception as e:\n",
    "        print(f\"Tool error caught: {str(e)[:100]}\")\n",
    "        return ToolMessage(\n",
    "            content=f\"Tool execution failed. Please try rephrasing your request.\",\n",
    "            tool_call_id=request.tool_call[\"id\"]\n",
    "        )\n",
    "\n",
    "# Create agent with error handling\n",
    "agent = create_agent(\n",
    "    model=get_llm(),\n",
    "    tools=[search_documents],\n",
    "    middleware=[handle_tool_errors]\n",
    ")\n",
    "\n",
    "# Test with query\n",
    "response = agent.invoke({\"messages\": [{\"role\": \"user\", \"content\": \"Search for information\"}]})\n",
    "print(\"Agent handled potential errors gracefully\")"
   ]
  },
  {
   "cell_type": "markdown",
   "metadata": {},
   "source": [
    "### Pattern 2: LangSmith Tracing"
   ]
  },
  {
   "cell_type": "code",
   "execution_count": null,
   "metadata": {},
   "outputs": [],
   "source": [
    "import os\n",
    "from langsmith import traceable\n",
    "\n",
    "# Check if LangSmith is configured\n",
    "if os.getenv(\"LANGCHAIN_API_KEY\"):\n",
    "    print(\"LangSmith tracing is enabled\")\n",
    "    print(f\"Project: {os.getenv('LANGCHAIN_PROJECT', 'default')}\")\n",
    "    \n",
    "    @traceable(run_type=\"chain\", name=\"custom_rag_chain\")\n",
    "    def custom_rag_chain(query: str) -> str:\n",
    "        \"\"\"Custom RAG chain with tracing.\"\"\"\n",
    "        # Retrieve documents\n",
    "        vector_store = chroma_client.get_vector_store()\n",
    "        docs = vector_store.similarity_search(query, k=3)\n",
    "        \n",
    "        # Generate response\n",
    "        context = \"\\n\\n\".join([doc.page_content for doc in docs])\n",
    "        llm = get_llm()\n",
    "        response = llm.invoke(\n",
    "            f\"Based on this context:\\n{context}\\n\\nAnswer: {query}\"\n",
    "        )\n",
    "        return response.content\n",
    "    \n",
    "    # Test with tracing\n",
    "    result = custom_rag_chain(\"What are the benefits of RAG?\")\n",
    "    print(f\"\\nResponse: {result[:200]}...\")\n",
    "    print(\"\\n✓ Check LangSmith for full trace details\")\n",
    "else:\n",
    "    print(\"LangSmith not configured. Set LANGCHAIN_API_KEY to enable tracing.\")"
   ]
  },
  {
   "cell_type": "markdown",
   "metadata": {},
   "source": [
    "## Summary\n",
    "\n",
    "This notebook demonstrated:\n",
    "\n",
    "1. **Document Ingestion**: Multiple patterns for loading documents into the vector store\n",
    "2. **RAG Chat**: Basic and conversational chat patterns\n",
    "3. **Advanced Agents**: Custom tools, dynamic model selection, and middleware\n",
    "4. **Retrievers**: Custom retrieval strategies and multi-query patterns\n",
    "5. **Memory**: Conversation persistence with checkpointers\n",
    "6. **Structured Outputs**: Extracting validated data from LLM responses\n",
    "7. **Error Handling**: Graceful degradation and tool error management\n",
    "8. **Observability**: LangSmith tracing integration\n",
    "\n",
    "## Next Steps\n",
    "\n",
    "- Experiment with different embedding models\n",
    "- Try various chunk sizes and overlaps\n",
    "- Implement reranking for better retrieval\n",
    "- Add evaluation metrics (faithfulness, relevance, etc.)\n",
    "- Explore LangGraph for complex workflows\n",
    "- Add streaming responses for better UX"
   ]
  }
 ],
 "metadata": {
  "kernelspec": {
   "display_name": ".venv",
   "language": "python",
   "name": "python3"
  },
  "language_info": {
   "codemirror_mode": {
    "name": "ipython",
    "version": 3
   },
   "file_extension": ".py",
   "mimetype": "text/x-python",
   "name": "python",
   "nbconvert_exporter": "python",
   "pygments_lexer": "ipython3",
   "version": "3.11.9"
  }
 },
 "nbformat": 4,
 "nbformat_minor": 4
}
