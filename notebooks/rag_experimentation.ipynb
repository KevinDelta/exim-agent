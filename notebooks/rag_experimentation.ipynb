{
 "cells": [
  {
   "cell_type": "markdown",
   "metadata": {},
   "source": [
    "# RAG Experimentation Notebook\n",
    "\n",
    "This notebook demonstrates how to query your ingested documents using the RAG pipeline.\n",
    "\n",
    "**Prerequisites:** Documents must be ingested via the API first."
   ]
  },
  {
   "cell_type": "markdown",
   "metadata": {},
   "source": [
    "## Setup: Configure Local Paths and Initialize"
   ]
  },
  {
   "cell_type": "code",
   "execution_count": 1,
   "metadata": {},
   "outputs": [
    {
     "name": "stdout",
     "output_type": "stream",
     "text": [
      "✓ Project root: /Users/kevinknox/coding/agent-api\n",
      "✓ Documents path: /Users/kevinknox/coding/agent-api/data/documents\n",
      "✓ ChromaDB path: /Users/kevinknox/coding/agent-api/data/chroma_db\n"
     ]
    }
   ],
   "source": [
    "import os\n",
    "import sys\n",
    "from pathlib import Path\n",
    "\n",
    "# Add src to path\n",
    "project_root = Path.cwd().parent\n",
    "sys.path.insert(0, str(project_root / \"src\"))\n",
    "\n",
    "# Set environment variables for LOCAL paths (not Docker paths)\n",
    "os.environ[\"DOCUMENTS_PATH\"] = str(project_root / \"data\" / \"documents\")\n",
    "os.environ[\"CHROMA_DB_PATH\"] = str(project_root / \"data\" / \"chroma_db\")\n",
    "\n",
    "print(f\"✓ Project root: {project_root}\")\n",
    "print(f\"✓ Documents path: {os.environ['DOCUMENTS_PATH']}\")\n",
    "print(f\"✓ ChromaDB path: {os.environ['CHROMA_DB_PATH']}\")"
   ]
  },
  {
   "cell_type": "code",
   "execution_count": 12,
   "metadata": {},
   "outputs": [
    {
     "name": "stderr",
     "output_type": "stream",
     "text": [
      "\u001b[32m2025-10-04 13:12:15.284\u001b[0m | \u001b[1mINFO    \u001b[0m | \u001b[36mexim_agent.infrastructure.llm_providers.openai_provider\u001b[0m:\u001b[36minitialize_llm_providers\u001b[0m:\u001b[36m12\u001b[0m - \u001b[1mInitializing OpenAI LLM and embedding models\u001b[0m\n",
      "\u001b[32m2025-10-04 13:12:15.286\u001b[0m | \u001b[1mINFO    \u001b[0m | \u001b[36mexim_agent.infrastructure.llm_providers.openai_provider\u001b[0m:\u001b[36minitialize_llm_providers\u001b[0m:\u001b[36m31\u001b[0m - \u001b[1mLLM initialized: gpt-5-nano-2025-08-07\u001b[0m\n",
      "\u001b[32m2025-10-04 13:12:15.287\u001b[0m | \u001b[1mINFO    \u001b[0m | \u001b[36mexim_agent.infrastructure.llm_providers.openai_provider\u001b[0m:\u001b[36minitialize_llm_providers\u001b[0m:\u001b[36m32\u001b[0m - \u001b[1mEmbedding model initialized: text-embedding-3-small\u001b[0m\n",
      "\u001b[32m2025-10-04 13:12:15.287\u001b[0m | \u001b[1mINFO    \u001b[0m | \u001b[36mexim_agent.infrastructure.db.chroma_client\u001b[0m:\u001b[36minitialize\u001b[0m:\u001b[36m22\u001b[0m - \u001b[1mInitializing ChromaDB at /Users/kevinknox/coding/agent-api/data/chroma_db\u001b[0m\n",
      "\u001b[32m2025-10-04 13:12:15.291\u001b[0m | \u001b[1mINFO    \u001b[0m | \u001b[36mexim_agent.infrastructure.db.chroma_client\u001b[0m:\u001b[36minitialize\u001b[0m:\u001b[36m42\u001b[0m - \u001b[1mChromaDB initialized successfully with collection: documents\u001b[0m\n"
     ]
    },
    {
     "name": "stdout",
     "output_type": "stream",
     "text": [
      "\n",
      "✓ Connected to ChromaDB\n",
      "✓ Collection: documents\n",
      "✓ Document count: 2134\n",
      "✓ Status: active\n"
     ]
    }
   ],
   "source": [
    "# Import infrastructure components\n",
    "from exim_agent.config import settings\n",
    "from exim_agent.infrastructure.db.chroma_client import chroma_client\n",
    "from exim_agent.infrastructure.llm_providers.openai_provider import initialize_llm_providers\n",
    "\n",
    "# Initialize LLM and ChromaDB\n",
    "initialize_llm_providers()\n",
    "chroma_client.initialize()\n",
    "\n",
    "# Verify connection\n",
    "stats = chroma_client.get_collection_stats()\n",
    "print(f\"\\n✓ Connected to ChromaDB\")\n",
    "print(f\"✓ Collection: {stats['collection_name']}\")\n",
    "print(f\"✓ Document count: {stats['document_count']}\")\n",
    "print(f\"✓ Status: {stats['status']}\")"
   ]
  },
  {
   "cell_type": "markdown",
   "metadata": {},
   "source": [
    "## Create Query Engine from Existing Vector Store"
   ]
  },
  {
   "cell_type": "code",
   "execution_count": 3,
   "metadata": {},
   "outputs": [
    {
     "name": "stdout",
     "output_type": "stream",
     "text": [
      "✓ Query engine created\n"
     ]
    }
   ],
   "source": [
    "from llama_index.core import VectorStoreIndex\n",
    "\n",
    "# Load index from existing ChromaDB collection\n",
    "index = VectorStoreIndex.from_vector_store(\n",
    "    chroma_client.get_vector_store()\n",
    ")\n",
    "\n",
    "# Create query engine\n",
    "query_engine = index.as_query_engine(\n",
    "    similarity_top_k=3,  # Return top 3 most relevant chunks\n",
    "    response_mode=\"compact\"  # Compact response mode\n",
    ")\n",
    "\n",
    "print(\"✓ Query engine created\")"
   ]
  },
  {
   "cell_type": "markdown",
   "metadata": {},
   "source": [
    "## Test Basic Query"
   ]
  },
  {
   "cell_type": "code",
   "execution_count": 4,
   "metadata": {},
   "outputs": [
    {
     "name": "stdout",
     "output_type": "stream",
     "text": [
      "Query: What are the key provisions of AGOA?\n",
      "\n",
      "Response:\n",
      "- Duty-free treatment: AGOA provides duty-free treatment for eligible articles from designated sub-Saharan African beneficiary countries (the program can also include GSP benefits).\n",
      "\n",
      "- Annual eligibility review and designation: The President conducts an annual review to determine whether countries should continue to be eligible and to decide which additional sub-Saharan African countries, if any, should be designated as beneficiaries.\n",
      "\n",
      "- Grounds for termination: If a beneficiary country does not make continual progress in meeting eligibility requirements, the President must terminate its designation.\n",
      "\n",
      "- Targeted withdrawal/suspension: The President may withdraw, suspend, or limit the duty-free treatment for specific articles from a country if that approach would be more effective in promoting compliance than terminating the designation.\n",
      "\n",
      "- Public process for designations: The designation process involves the AGOA Trade Policy Staff Committee (TPSC) Subcommittee, which requests written comments and holds a public hearing before final decisions are made. The process includes opportunities for input from small businesses and other stakeholders.\n",
      "\n",
      "- Consideration of labor standards: Child labor and forced labor criteria may be considered in preparing the related Department of Labor reports that inform eligibility decisions.\n",
      "\n",
      "- Example of designation: For 2025, 32 countries were designated as beneficiary sub-Saharan African countries (list includes Angola, Benin, Botswana, and others).\n"
     ]
    }
   ],
   "source": [
    "# Test query\n",
    "query = \"What are the key provisions of AGOA?\"\n",
    "response = query_engine.query(query)\n",
    "\n",
    "print(f\"Query: {query}\")\n",
    "print(f\"\\nResponse:\\n{response}\")"
   ]
  },
  {
   "cell_type": "markdown",
   "metadata": {},
   "source": [
    "## Inspect Retrieved Documents"
   ]
  },
  {
   "cell_type": "code",
   "execution_count": 7,
   "metadata": {},
   "outputs": [
    {
     "name": "stdout",
     "output_type": "stream",
     "text": [
      "Query: What is AfCFTA?\n",
      "\n",
      "Retrieved 3 documents:\n",
      "\n",
      "--- Document 1 (Score: 0.329) ---\n",
      "Text preview: Goods Trade between the United States and sub-\n",
      "Saharan Africa \n",
      " \n",
      "Billions of Dollars \n",
      " \n",
      " 2002 2003 2004 2005 2006 2007 2008 2009 2010 2011 2012 2013 2014 2015 2016 2017 2018 2019 2020 2021 2022 \n",
      "Total...\n",
      "Metadata: {'page_label': '1', 'file_name': 'US Trade with sub_Saharan Africa 11162023_0.pdf', 'file_path': '/app/data/documents/pdf/US Trade with sub_Saharan Africa 11162023_0.pdf', 'file_type': 'application/pdf', 'file_size': 97926, 'creation_date': '2025-10-03', 'last_modified_date': '2025-10-03'}\n",
      "\n",
      "--- Document 2 (Score: 0.312) ---\n",
      "Text preview: U.S. Imports under the African Growth and Opportunity Act (AGOA)  \n",
      "AGOA (including GSP) imports for 2022 totaled $10.3 billion, up 26 percent compared to 2001 (the first \n",
      "full-year of AGOA trade) and ...\n",
      "Metadata: {'page_label': '1', 'file_name': 'AGOA Trade Fact Sheet_final.pdf', 'file_path': '/app/data/documents/pdf/AGOA Trade Fact Sheet_final.pdf', 'file_type': 'application/pdf', 'file_size': 377167, 'creation_date': '2025-10-03', 'last_modified_date': '2025-10-03'}\n",
      "\n",
      "--- Document 3 (Score: 0.301) ---\n",
      "Text preview: Heading / CD Article Description Statistical Rate of Duty\n",
      "Subheading Unit General EU / UK EFTA SADC MERCOSUR AfCFTA\n",
      "0308.90.90 1 - - Other kg free free free free free free\n",
      "03.09 Flours, meals and pell...\n",
      "Metadata: {'page_label': '30', 'file_name': 'SA-Customs-Excise_Tariffs-Schedule-1.pdf', 'file_path': '/app/data/documents/pdf/SA-Customs-Excise_Tariffs-Schedule-1.pdf', 'file_type': 'application/pdf', 'file_size': 2841781, 'creation_date': '2025-10-03', 'last_modified_date': '2025-10-03'}\n",
      "\n"
     ]
    }
   ],
   "source": [
    "# Get retriever to see what documents are being pulled\n",
    "retriever = index.as_retriever(similarity_top_k=5)\n",
    "\n",
    "# Retrieve relevant nodes\n",
    "query = \"What is AfCFTA?\"\n",
    "nodes = retriever.retrieve(query)\n",
    "\n",
    "print(f\"Query: {query}\")\n",
    "print(f\"\\nRetrieved {len(nodes)} documents:\\n\")\n",
    "\n",
    "for i, node in enumerate(nodes, 1):\n",
    "    print(f\"--- Document {i} (Score: {node.score:.3f}) ---\")\n",
    "    print(f\"Text preview: {node.text[:200]}...\")\n",
    "    print(f\"Metadata: {node.metadata}\")\n",
    "    print()"
   ]
  },
  {
   "cell_type": "markdown",
   "metadata": {},
   "source": [
    "## Experiment with Different Response Modes\n",
    "\n",
    "### 1. \"compact\" mode is one shot dense retrieval thats best for short queries and simple questions\n",
    "### 2. \"tree_summarize\" mode is for hierarchical reasoning and complex questions"
   ]
  },
  {
   "cell_type": "code",
   "execution_count": 9,
   "metadata": {},
   "outputs": [
    {
     "name": "stdout",
     "output_type": "stream",
     "text": [
      "=== COMPACT MODE ===\n",
      "- What they are: Incoterms are internationally accepted selling terms that the buyer and seller agree on. They define which tasks, costs, and risks are borne by each party and indicate when those costs and risks transfer from seller to buyer.\n",
      "\n",
      "- Who publishes them: The terms are published by the International Chamber of Commerce (ICC) and are tied to international commercial law. They are widely accepted by governments and legal authorities around the world.\n",
      "\n",
      "- Edition and updates: The ICC updates Incoterms periodically to reflect changes in global trade. The 2020 edition became effective on January 1, 2020. The terms have evolved since the first publication in 1936.\n",
      "\n",
      "- How they are used: Contracts specify an Incoterm (and the edition year). Incoterms come with guidance on the obligations and charges for the seller and the buyer, helping to clarify who does what (loading, shipping, insurance, customs, etc.) and who bears which costs.\n",
      "\n",
      "- Why they are important in international trade:\n",
      "  - They provide clarity and reduce disputes by precisely outlining responsibilities, costs, and risk transfer.\n",
      "  - They help determine landed costs, insurance needs, and how shipments are arranged and documented.\n",
      "  - They facilitate consistent business practices across borders and legal jurisdictions.\n",
      "\n",
      "- Practical preparation and considerations:\n",
      "  - Identify which Incoterms your business typically uses and audit contracts that extend into or renew in 2020 or later.\n",
      "  - Consider using FCA instead of FOB in Letters of Credit contexts, noting this may require carriers to issue Bills of Lading.\n",
      "  - Update contracts and documents to reflect the correct Incoterm and edition year.\n",
      "  - Review how changes affect risk transfer points, loading/unloading charges, and insurance requirements (e.g., CIP).\n",
      "  - Seek professional legal advice when changing terms or contracts.\n",
      "  - For reference, you can obtain the official ICC Incoterms 2020 book.\n",
      "\n",
      "- Additional note for the UK: Trade terms can be aligned with ICC guidance or the relevant national enactments under the Uniform Laws of the Sale of Goods Act 1979, and parties can agree on which terms to apply in their contracts.\n",
      "\n",
      "=== TREE SUMMARIZE MODE ===\n",
      "Incoterms are internationally recognized selling terms published by the International Chamber of Commerce that the buyer and seller agree to in a transaction. They clarify who is responsible for which tasks, costs, and risks at different points in the shipment, and determine when the seller’s costs and risks transfer to the buyer. They are tied to international commercial law and are accepted by governments and legal authorities worldwide. The ICC updates these terms periodically; the current widely used edition is Incoterms 2020, in effect since January 1, 2020.\n",
      "\n",
      "Why they matter in international trade\n",
      "- They define who pays for and who is responsible for each part of the shipment (including loading, transport, insurance, customs, and unloading) and when risk transfers from seller to buyer.\n",
      "- They help standardize expectations between trading partners, reducing disputes and misunderstandings in global supply chains.\n",
      "- They influence landed cost calculations and insurance arrangements, which affects pricing, budgeting, and procurement decisions.\n",
      "- They are used in contracts and should be clearly stated with the edition year to avoid ambiguity.\n",
      "\n",
      "Key changes in the Incoterms 2020 update (highlights)\n",
      "- A new term, DPU (Delivered at Place Unloaded), replaces the former DAT (Delivered at Terminal).\n",
      "- Insurance requirements shifted: for CIP, insurance now should meet Institute Cargo Clause A (broader coverage); CIF continues to use Clause C.\n",
      "- Costs and security allocations are detailed more explicitly under A9/B9 sections, making who pays which costs clearer.\n",
      "- Overall, there is greater emphasis on security allocations and related costs across terms.\n",
      "\n",
      "Practical steps for businesses\n",
      "- Identify which Incoterms your business normally uses and audit contracts that extend into or renew in 2020.\n",
      "- If using letters of credit, consider whether FCA might be preferable to FOB in certain cases, and ensure the necessary documents (like Bills of Lading) are arranged accordingly.\n",
      "- Update contracts and documents to reflect the 2020 edition and clearly state the edition year.\n",
      "- Review how changes in costs, insurance, and security requirements affect landed costs and pricing.\n",
      "- Seek professional legal or supply-chain advice to audit procedures and ensure compliance.\n",
      "- Consider obtaining an official ICC Incoterms 2020 book for authoritative guidance.\n"
     ]
    }
   ],
   "source": [
    "# Compare different response modes\n",
    "query = \"Explain incoterms and their importance in international trade\"\n",
    "\n",
    "# Compact mode (default)\n",
    "engine_compact = index.as_query_engine(\n",
    "    similarity_top_k=3,\n",
    "    response_mode=\"compact\"\n",
    ")\n",
    "\n",
    "# Tree summarize mode\n",
    "engine_tree = index.as_query_engine(\n",
    "    similarity_top_k=5,\n",
    "    response_mode=\"tree_summarize\"\n",
    ")\n",
    "\n",
    "response_compact = engine_compact.query(query)\n",
    "response_tree = engine_tree.query(query)\n",
    "\n",
    "print(\"=== COMPACT MODE ===\")\n",
    "print(response_compact)\n",
    "print(\"\\n=== TREE SUMMARIZE MODE ===\")\n",
    "print(response_tree)"
   ]
  },
  {
   "cell_type": "markdown",
   "metadata": {},
   "source": [
    "## Test Different Top-K Values\n",
    "### Responses are based on the aggregation of different top-k values"
   ]
  },
  {
   "cell_type": "code",
   "execution_count": 14,
   "metadata": {},
   "outputs": [
    {
     "name": "stdout",
     "output_type": "stream",
     "text": [
      "\n",
      "=== Top-K = 1 ===\n",
      "Response length: 497 chars\n",
      "Response: The schedules shown are from Schedule 1, Part 1, Section XI of the South Africa Customs & Excise Tariff. For the HS subheadings listed:\n",
      "\n",
      "- 6006.44.10 Printed: Tulle\n",
      "  - General: 5%\n",
      "  - EU/UK: 3%\n",
      "  - E...\n",
      "\n",
      "=== Top-K = 3 ===\n",
      "Response length: 589 chars\n",
      "Response: The schedules shown are parts of South Africa’s Customs & Excise Tariff (Schedule 1, Part 1). They include product codes and region-specific duty rates (General, EU/UK, EFTA, SADC, MERCOSUR, AfCFTA). ...\n",
      "\n",
      "=== Top-K = 5 ===\n",
      "Response length: 760 chars\n",
      "Response: The customs tariff schedules are in Schedule 1, Part 1, for sections II and XI of the SA Customs & Excise Tariff. They list commodity codes (HS codes), units, and the duty rates by trading-region grou...\n"
     ]
    }
   ],
   "source": [
    "# Test how many documents to retrieve\n",
    "query = \"What are the customs tariff schedules for South Africa?\"\n",
    "\n",
    "for k in [1, 3, 5]:\n",
    "    engine = index.as_query_engine(similarity_top_k=k)\n",
    "    response = engine.query(query)\n",
    "    \n",
    "    print(f\"\\n=== Top-K = {k} ===\")\n",
    "    print(f\"Response length: {len(str(response))} chars\")\n",
    "    print(f\"Response: {str(response)[:200]}...\")"
   ]
  },
  {
   "cell_type": "markdown",
   "metadata": {},
   "source": [
    "## Experiment with LLM Temperature"
   ]
  },
  {
   "cell_type": "code",
   "execution_count": 18,
   "metadata": {},
   "outputs": [
    {
     "name": "stdout",
     "output_type": "stream",
     "text": [
      "=== LOW TEMPERATURE (0.1) - Factual ===\n",
      "Response length: 975 chars\n",
      "The African Continental Free Trade Area (AfCFTA) benefits are not described here. The materials focus on AGOA (African Growth and Opportunity Act) trade preferences and U.S.–sub-Saharan Africa trade flows. Key AGOA-related points include:\n",
      "\n",
      "- AGOA offers duty-free (tariff-preferred) treatment for eligible goods from designated sub-Saharan African beneficiary countries.\n",
      "- Imports are tracked in categories such as AGOA oil imports, AGOA non-oil imports (including GSP), and AGOA apparel imports.\n",
      "- For 2025, 32 sub-Saharan African countries were designated as AGOA beneficiaries; several countries were not.\n",
      "- Eligibility is reviewed annually, and the President may terminate or modify a country’s designation or adjust duty-free treatment to promote compliance.\n",
      "- There is a formal process for comments and a public hearing as part of the annual eligibility review.\n",
      "\n",
      "If you’d like, I can provide a concise summary focused specifically on AGOA benefits from these materials.\n",
      "\n",
      "=== HIGH TEMPERATURE (0.9) - Creative ===\n",
      "Response length: 818 chars\n",
      "The materials do not describe the African Continental Free Trade Area (AfCFTA) or its benefits. They focus on AGOA-related trade with sub-Saharan Africa.\n",
      "\n",
      "Key AGOA-related points in the materials:\n",
      "- AGOA provides duty-free (and preferential) access to the U.S. market for eligible sub-Saharan African countries.\n",
      "- For 2025, 32 sub-Saharan African countries were designated as AGOA beneficiaries; 17 countries were not designated.\n",
      "- Beneficiary status can be withdrawn, suspended, or limited if a country fails to meet eligibility requirements.\n",
      "- The program includes a formal annual eligibility review and opportunities for public comments and hearings.\n",
      "- AGOA imports are categorized into oil and non-oil (including apparel and other goods), with data showing substantial imports from beneficiary countries over time.\n"
     ]
    }
   ],
   "source": [
    "from llama_index.core import Settings\n",
    "from llama_index.llms.openai import OpenAIResponses\n",
    "\n",
    "query = \"Summarize the benefits of the African Continental Free Trade Area\"\n",
    "\n",
    "# Low temperature (more factual)\n",
    "Settings.llm = OpenAIResponses(model=\"gpt-5-nano-2025-08-07\", temperature=0.1)\n",
    "engine_low = index.as_query_engine(similarity_top_k=3)\n",
    "response_low = engine_low.query(query)\n",
    "\n",
    "# High temperature (more creative)\n",
    "Settings.llm = OpenAIResponses(model=\"gpt-5-nano-2025-08-07\", temperature=0.9)\n",
    "engine_high = index.as_query_engine(similarity_top_k=3)\n",
    "response_high = engine_high.query(query)\n",
    "\n",
    "print(\"=== LOW TEMPERATURE (0.1) - Factual ===\")\n",
    "print(f\"Response length: {len(str(response_low))} chars\")\n",
    "print(response_low)\n",
    "print(\"\\n=== HIGH TEMPERATURE (0.9) - Creative ===\")\n",
    "print(f\"Response length: {len(str(response_high))} chars\")\n",
    "print(response_high)\n",
    "\n",
    "# Reset to default\n",
    "Settings.llm = OpenAIResponses(model=\"gpt-5-nano-2025-08-07\", temperature=0.7)"
   ]
  },
  {
   "cell_type": "markdown",
   "metadata": {},
   "source": [
    "## Test Multiple Queries"
   ]
  },
  {
   "cell_type": "code",
   "execution_count": 19,
   "metadata": {},
   "outputs": [
    {
     "name": "stdout",
     "output_type": "stream",
     "text": [
      "\n",
      "============================================================\n",
      "Query: What are the benefits of AGOA for African countries?\n",
      "============================================================\n",
      "\n",
      "- Duty-free access to the U.S. market for eligible products from AGOA-eligible sub-Saharan African countries (including goods covered under AGOA and GSP).\n",
      "\n",
      "- This has supported substantial trade with the United States, with AGOA imports totaling about $10.3 billion in 2022 (and non-oil AGOA imports of $5.7 billion), indicating strong market access and growth potential.\n",
      "\n",
      "- It has encouraged diversification into non-oil sectors, with notable gains in apparel, auto parts, macadamia nuts, jewelry, fresh oranges, and footwear.\n",
      "\n",
      "- The program covers key import categories such as Mineral Fuels, Transportation Equipment, Textiles and Apparel, Agricultural Products, Minerals/Metals, and Jewelry.\n",
      "\n",
      "- A broad group of countries benefits from AGOA, with 32 sub-Saharan African countries designated as beneficiaries for 2025.\n",
      "\n",
      "\n",
      "============================================================\n",
      "Query: Explain the dual-use goods and technologies list\n",
      "============================================================\n",
      "\n",
      "- What it is: A list of goods and technologies that have both civilian/scientific use and potential military or security applications, used to regulate how they are developed, produced, or transferred.\n",
      "\n",
      "- How it’s organized:\n",
      "  - It is divided into categories (e.g., Category 1, Category 4 for computers, Category 5 Part 1, Category 5 Part 2). Some categories may have items listed, while others show none.\n",
      "  - Within categories, specific items and types of technology are named, including materials, hardware, software, and “technology” descriptions that relate to development, production, or use.\n",
      "  - There are notes indicating special considerations, such as cyber-related limitations or exemptions.\n",
      "\n",
      "- Examples from the entries:\n",
      "  - Very Sensitive List (Category 1): \n",
      "    - Composite structures or laminates made from organic matrices and fibrous materials.\n",
      "    - Materials designed for absorbing electromagnetic radiation.\n",
      "    - General “technology” for development or production of equipment and materials listed in other parts.\n",
      "  - Category 5 - Part 1:\n",
      "    - Digitally controlled radio receivers.\n",
      "    - Counter-IED equipment and related gear.\n",
      "    - Software designed for the development or production of equipment, functions, or features listed in Category 5 – Part 1.\n",
      "    - Technology for development or production of equipment or software listed in Category 5 – Part 1.\n",
      "  - Category 4 - Computers:\n",
      "    - Technology for the development, production, or use of equipment or software listed in the Category 4 sections.\n",
      "    - Threshold-based technology: digital computers with an Adjusted Peak Performance (APP) exceeding 24 Weighted TeraFLOPS, and electronic assemblies designed to achieve higher performance by processor aggregation beyond that threshold.\n",
      "    - Technology for the development of intrusion software.\n",
      "  - Notes relevant to cyber:\n",
      "    - Some cyber-related tech and capabilities are exempt from certain restrictions (e.g., vulnerability disclosure or cyber incident response), but this does not negate authorities’ rights to assess compliance with the relevant thresholds.\n",
      "\n",
      "- Recap:\n",
      "  - The list categorizes items by type and sensitivity, highlighting materials, hardware, software, and development/production technologies that may have dual-use applications.\n",
      "  - It sets out specific thresholds and notes to guide what is controlled or restricted, and it shows that some categories have no entries (None) while others contain detailed items.\n",
      "\n",
      "\n",
      "============================================================\n",
      "Query: What is PVoC and how does it apply to Kenya?\n",
      "============================================================\n",
      "\n",
      "PVoC stands for Pre-Verification of Conformity. It is a mandatory conformity-assessment regime for imports into Kenya, administered by the Kenya Bureau of Standards (KEBS) since 2005.\n",
      "\n",
      "Key points:\n",
      "- Purpose: Verify that products destined for Kenya meet Kenya Standards, approved equivalents, and other regulations before shipment.\n",
      "- How it works: The verification, inspection, and testing are carried out in the country of export (the exporting country). A certificate of conformity (CoC) is issued if goods conform; a nonconformity report (NCR) is issued for nonconforming goods.\n",
      "- What is checked: Physical inspection before shipment, sampling, testing in accredited laboratories, auditing of production processes, and documentary checks.\n",
      "- Route A (consignment inspection and testing): All products under this route must be tested and inspected. Containerized cargo must be sealed and CoC details provided. Several high-risk product groups are eligible for Route A, including:\n",
      "  - Animal and fishery products (fresh/frozen)\n",
      "  - Bulk petroleum products and base oils\n",
      "  - Bulk cereals and pulses (rice, wheat, beans, maize)\n",
      "  - Edible cooking oils\n",
      "  - Electrical cables\n",
      "  - Fertilizer\n",
      "  - Fresh dairy products\n",
      "- Administration and impact: KEBS contracts inspection agencies, with cooperation reviewed every three years. Agencies are assigned specific zones, which can cause delays for importers awaiting an inspector. The program aims to facilitate Kenya’s acceptance of goods and reduce non-tariff barriers, aligning with the move away from the prior pre-shhipment regime.\n",
      "\n",
      "\n",
      "============================================================\n",
      "Query: Summarize US trade with sub-Saharan Africa\n",
      "============================================================\n",
      "\n",
      "- Overall pattern: The United States engages in a sizable, yet fluctuating, goods-trade relationship with sub-Saharan Africa, with imports consistently larger than exports and a persistent trade deficit that has varied in size over time.\n",
      "\n",
      "- Trade size and direction (2002–2022):\n",
      "  - Total goods trade rose from about $24 billion in 2002 to a peak around $105 billion in 2007, then fluctuated and settled near $50 billion in 2022.\n",
      "  - U.S. exports of goods to the region grew from about $6.0 billion in 2002 to roughly $18.5 billion in 2022.\n",
      "  - U.S. imports of goods from the region grew from about $17.9 billion in 2002 to about $31.4 billion in 2022.\n",
      "  - The trade balance has remained negative, ranging from -$11.9 billion in 2002 to -$12.8 billion in 2022, with a notable peak deficit of around -$67.5 billion in 2007.\n",
      "\n",
      "- AGOA trade (as a driver of access, including GSP):\n",
      "  - In 2022, AGOA imports totaled $10.3 billion, up about 26% from the act’s first full year and consistent with recent averages.\n",
      "  - Petroleum products accounted for about 45% of AGOA imports.\n",
      "  - Non-oil AGOA imports reached a record $5.7 billion in 2022.\n",
      "  - Leading beneficiaries include South Africa (largest), Nigeria, Ghana, Kenya, Madagascar, and Angola.\n",
      "  - Top AGOA import categories in 2022 were Mineral Fuels ($4.6B), Transportation Equipment ($1.5B), Textiles and Apparel ($1.4B), Agricultural Products ($914M), Minerals/Metals and Related Products ($755M), and Jewelry/Precious Stones ($420M).\n",
      "  - Apparel imports under AGOA also rose over time, while other sectors showed mixed trends.\n",
      "\n",
      "- Key takeaways:\n",
      "  - The relationship covers diverse sectors, with energy (oil/fuels) and transportation equipment being prominent in AGOA-related imports.\n",
      "  - South Africa stands out as the largest beneficiary within AGOA, with other countries contributing notably in oil, apparel, and other goods.\n",
      "  - While trade volumes fluctuate, the United States consistently runs a trade deficit with sub-Saharan Africa, though the AGOA framework has helped expand non-oil imports and diversify the mix.\n",
      "\n"
     ]
    }
   ],
   "source": [
    "# Test various queries on your documents\n",
    "test_queries = [\n",
    "    \"What are the benefits of AGOA for African countries?\",\n",
    "    \"Explain the dual-use goods and technologies list\",\n",
    "    \"What is PVoC and how does it apply to Kenya?\",\n",
    "    \"Summarize US trade with sub-Saharan Africa\",\n",
    "]\n",
    "\n",
    "for query in test_queries:\n",
    "    print(f\"\\n{'='*60}\")\n",
    "    print(f\"Query: {query}\")\n",
    "    print('='*60)\n",
    "    \n",
    "    response = query_engine.query(query)\n",
    "    print(f\"\\n{response}\\n\")"
   ]
  },
  {
   "cell_type": "markdown",
   "metadata": {},
   "source": [
    "## Evaluate Retrieval Quality"
   ]
  },
  {
   "cell_type": "code",
   "execution_count": 20,
   "metadata": {},
   "outputs": [
    {
     "name": "stdout",
     "output_type": "stream",
     "text": [
      "\n",
      "Query: What are incoterms?\n",
      "Retrieved: 3 documents\n",
      "Scores: ['0.596', '0.500', '0.485']\n",
      "Avg score: 0.527\n",
      "Top score: 0.596\n",
      "\n",
      "Query: Explain AGOA eligibility criteria\n",
      "Retrieved: 3 documents\n",
      "Scores: ['0.507', '0.501', '0.433']\n",
      "Avg score: 0.480\n",
      "Top score: 0.507\n",
      "\n",
      "Query: What is the AfCFTA agreement?\n",
      "Retrieved: 3 documents\n",
      "Scores: ['0.330', '0.310', '0.304']\n",
      "Avg score: 0.315\n",
      "Top score: 0.330\n"
     ]
    }
   ],
   "source": [
    "# Analyze retrieval scores\n",
    "test_queries = [\n",
    "    \"What are incoterms?\",\n",
    "    \"Explain AGOA eligibility criteria\",\n",
    "    \"What is the AfCFTA agreement?\"\n",
    "]\n",
    "\n",
    "retriever = index.as_retriever(similarity_top_k=5)\n",
    "\n",
    "for query in test_queries:\n",
    "    nodes = retriever.retrieve(query)\n",
    "    scores = [node.score for node in nodes]\n",
    "    \n",
    "    print(f\"\\nQuery: {query}\")\n",
    "    print(f\"Retrieved: {len(nodes)} documents\")\n",
    "    print(f\"Scores: {[f'{s:.3f}' for s in scores]}\")\n",
    "    print(f\"Avg score: {sum(scores)/len(scores):.3f}\")\n",
    "    print(f\"Top score: {max(scores):.3f}\")"
   ]
  },
  {
   "cell_type": "markdown",
   "metadata": {},
   "source": [
    "## Advanced: Chat Engine with Memory\n",
    "\n",
    "### Chat modes:\n",
    "#### ChatMode.BEST (default): Chat engine that uses an agent (react or openai) with a query engine tool\n",
    "#### ChatMode.CONTEXT: Chat engine that uses a retriever to get context\n",
    "#### ChatMode.CONDENSE_QUESTION: Chat engine that condenses questions\n",
    "#### ChatMode.CONDENSE_PLUS_CONTEXT: Chat engine that condenses questions and uses a retriever to get context\n",
    "#### ChatMode.SIMPLE: Simple chat engine that uses the LLM directly\n",
    "#### ChatMode.REACT: Chat engine that uses a react agent with a query engine tool\n",
    "#### ChatMode.OPENAI: Chat engine that uses an openai agent with a query engine tool"
   ]
  },
  {
   "cell_type": "code",
   "execution_count": 21,
   "metadata": {},
   "outputs": [
    {
     "name": "stdout",
     "output_type": "stream",
     "text": [
      "User: What is AGOA?\n",
      "Assistant: AGOA stands for the African Growth and Opportunity Act. It is a U.S. trade statute designed to promote economic growth in sub-Saharan Africa by giving eligible African countries preferential access to the U.S. market.\n",
      "\n",
      "Key points:\n",
      "- It provides duty-free or reduced-duty treatment for a wide range of products from eligible countries (often combined with the Generalized System of Preferences, or GSP, benefits).\n",
      "- Countries are designated as AGOA beneficiaries; the list is reviewed and updated annually (for 2025, 32 sub-Saharan African countries were designated).\n",
      "- The President can terminate eligibility or suspend/withdraw duty-free treatment for specific goods if a country does not meet the requirements.\n",
      "- An AGOA subcommittee (AGOA TPSC Subcommittee) handles the annual eligibility review and related procedures.\n",
      "\n",
      "User: What are its main benefits?\n",
      "Assistant: Here are the main benefits of AGOA (the African Growth and Opportunity Act):\n",
      "\n",
      "- Tariff preferences: Eligible African countries receive duty-free or reduced-duty access to a wide range of U.S. goods, making African products more price-competitive in the U.S. market.\n",
      "\n",
      "- Market expansion and diversification: AGOA encourages exporters to diversify beyond traditional commodities by opening up opportunities in manufactured goods, agro-processing, textiles, and other sectors.\n",
      "\n",
      "- Investment and job creation: Preferential access to the U.S. market can attract investment in Africa, helping to create jobs and develop local industries.\n",
      "\n",
      "- Regional value chains and industrial development: The program’s rules of origin are designed to promote regional manufacturing and the development of domestic value chains.\n",
      "\n",
      "- Trade capacity building and assistance: AGOA includes technical assistance, capacity-building programs, and support to help beneficiary countries meet U.S. standards and take advantage of the preferences.\n",
      "\n",
      "- Predictable, rules-based framework: Eligibility decisions are reviewed annually, providing a stable, transparent framework for trade planning.\n",
      "\n",
      "- Complement to other preferences: AGOA works alongside the Generalized System of Preferences (GSP) to broaden preferential access for sub-Saharan Africa.\n",
      "\n",
      "- Governance incentives: Countries must meet certain eligibility criteria (e.g., reforms, anti-corruption, worker rights) to maintain benefits, encouraging governance improvements.\n",
      "\n",
      "If you’d like, I can tailor this to a specific country or sector (e.g., textiles, agriculture) and give examples of what’s eligible.\n",
      "\n",
      "User: Which countries are eligible?\n",
      "Assistant: The list of AGOA-eligible countries is not fixed—it's determined each year by the USTR after the annual eligibility review. For 2026, the eligible countries are those Sub-Saharan African countries designated as AGOA beneficiaries in the AGOA Annual Review for Calendar Year 2026.\n",
      "\n",
      "Where to find the official list:\n",
      "- The AGOA Annual Review for Calendar Year 2026 (the PDF you referenced) contains the official designation.\n",
      "- Federal Register notice and the Regulations.gov docket (Docket Number: USTR–2025–0012) also publish the roster.\n",
      "- You can contact Jeremy Streatfeild (Director of African Affairs, Office of African Affairs) for alternatives to online submission or to request the list.\n",
      "\n",
      "If you’d like, I can pull the exact list for 2026 and summarize it country-by-country. I can do that if you allow me to fetch the document online or paste the relevant section here.\n"
     ]
    }
   ],
   "source": [
    "# Create a chat engine that maintains conversation history\n",
    "chat_engine = index.as_chat_engine(\n",
    "    chat_mode=\"context\",\n",
    "    similarity_top_k=3\n",
    ")\n",
    "\n",
    "# Have a conversation\n",
    "response1 = chat_engine.chat(\"What is AGOA?\")\n",
    "print(\"User: What is AGOA?\")\n",
    "print(f\"Assistant: {response1}\\n\")\n",
    "\n",
    "response2 = chat_engine.chat(\"What are its main benefits?\")\n",
    "print(\"User: What are its main benefits?\")\n",
    "print(f\"Assistant: {response2}\\n\")\n",
    "\n",
    "response3 = chat_engine.chat(\"Which countries are eligible?\")\n",
    "print(\"User: Which countries are eligible?\")\n",
    "print(f\"Assistant: {response3}\")"
   ]
  },
  {
   "cell_type": "markdown",
   "metadata": {},
   "source": [
    "## Next Steps\n",
    "\n",
    "After experimenting here, you can:\n",
    "\n",
    "1. **Implement Chat Service** - Move best parameters to `application/chat_service/`\n",
    "2. **Add Evaluation Metrics** - Implement in `application/evaluation_service/`\n",
    "3. **Create Custom Prompts** - Store in `domain/prompts/`\n",
    "4. **Build Tools** - Add custom tools in `domain/tools/`\n",
    "5. **Optimize Performance** - Tune chunk size, overlap, top-k values"
   ]
  }
 ],
 "metadata": {
  "kernelspec": {
   "display_name": ".venv",
   "language": "python",
   "name": "python3"
  },
  "language_info": {
   "codemirror_mode": {
    "name": "ipython",
    "version": 3
   },
   "file_extension": ".py",
   "mimetype": "text/x-python",
   "name": "python",
   "nbconvert_exporter": "python",
   "pygments_lexer": "ipython3",
   "version": "3.11.9"
  }
 },
 "nbformat": 4,
 "nbformat_minor": 2
}
