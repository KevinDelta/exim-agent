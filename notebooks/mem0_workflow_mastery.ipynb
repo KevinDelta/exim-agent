{
 "cells": [
  {
   "cell_type": "markdown",
   "metadata": {},
   "source": [
    "# Mem0 Workflow Mastery Notebook\n",
    "\n",
    "Use this notebook to practice the full set of Mem0-powered memory operations implemented in this project."
   ]
  },
  {
   "cell_type": "markdown",
   "metadata": {},
   "source": [
    "## Goals\n",
    "- Confirm your environment can initialize Mem0\n",
    "- Walk through the add, search, get all, update, history, and reset workflows\n",
    "- Capture reusable helpers and patterns for future experiments"
   ]
  },
  {
   "cell_type": "markdown",
   "metadata": {},
   "source": [
    "## Prerequisites\n",
    "1. `mem0_enabled=true` in your `.env` (see `MEM0_IMPLEMENTATION_SUMMARY.md`)\n",
    "2. API keys for the configured LLM and embedder available as environment variables\n",
    "3. Dependencies installed (`uv sync`)\n",
    "4. ChromaDB data directory available at `config.chroma_db_path` (created automatically if missing)"
   ]
  },
  {
   "cell_type": "markdown",
   "metadata": {},
   "source": [
    "---\n",
    "## 1. Environment Setup"
   ]
  },
  {
   "cell_type": "code",
   "execution_count": 1,
   "metadata": {},
   "outputs": [
    {
     "name": "stdout",
     "output_type": "stream",
     "text": [
      "Project root: /Users/kevinknox/coding/acc-llamaindex\n",
      "Source path added: /Users/kevinknox/coding/acc-llamaindex/src\n"
     ]
    }
   ],
   "source": [
    "import sys\n",
    "from pathlib import Path\n",
    "\n",
    "project_root = Path.cwd().parent\n",
    "src_path = project_root / 'src'\n",
    "if str(src_path) not in sys.path:\n",
    "    sys.path.insert(0, str(src_path))\n",
    "\n",
    "from dotenv import load_dotenv\n",
    "load_dotenv()\n",
    "\n",
    "print(f'Project root: {project_root}')\n",
    "print(f'Source path added: {src_path}')"
   ]
  },
  {
   "cell_type": "markdown",
   "metadata": {},
   "source": [
    "---\n",
    "## 2. Inspect Mem0 Configuration"
   ]
  },
  {
   "cell_type": "code",
   "execution_count": 2,
   "metadata": {},
   "outputs": [
    {
     "name": "stdout",
     "output_type": "stream",
     "text": [
      "Mem0 feature flag : True\n",
      "Vector store      : chroma\n",
      "LLM provider      : openai\n",
      "LLM model         : gpt-5-nano-2025-08-07\n",
      "Embedder model    : text-embedding-3-small\n",
      "History DB path   : /Users/kevinknox/coding/acc-llamaindex/data/mem0_history.db\n",
      "Chroma DB path    : /Users/kevinknox/coding/acc-llamaindex/data/chroma_db\n"
     ]
    }
   ],
   "source": [
    "from acc_llamaindex.config import config\n",
    "\n",
    "print('Mem0 feature flag :', config.mem0_enabled)\n",
    "print('Vector store      :', config.mem0_vector_store)\n",
    "print('LLM provider      :', config.mem0_llm_provider)\n",
    "print('LLM model         :', config.mem0_llm_model)\n",
    "print('Embedder model    :', config.mem0_embedder_model)\n",
    "print('History DB path   :', config.mem0_history_db_path)\n",
    "print('Chroma DB path    :', config.chroma_db_path)\n",
    "\n",
    "if not config.mem0_enabled:\n",
    "    print('WARNING: Mem0 is disabled. Update your environment and restart the kernel before running workflows.')"
   ]
  },
  {
   "cell_type": "markdown",
   "metadata": {},
   "source": [
    "---\n",
    "## 3. Initialize Mem0 Client"
   ]
  },
  {
   "cell_type": "code",
   "execution_count": 3,
   "metadata": {},
   "outputs": [
    {
     "name": "stderr",
     "output_type": "stream",
     "text": [
      "\u001b[32m2025-10-24 18:22:13.495\u001b[0m | \u001b[1mINFO    \u001b[0m | \u001b[36macc_llamaindex.application.memory_service.mem0_client\u001b[0m:\u001b[36m__init__\u001b[0m:\u001b[36m62\u001b[0m - \u001b[1mMem0 client initialized (provider=openai, model=gpt-5-nano-2025-08-07)\u001b[0m\n"
     ]
    },
    {
     "name": "stdout",
     "output_type": "stream",
     "text": [
      "Mem0 client ready: True\n"
     ]
    }
   ],
   "source": [
    "from acc_llamaindex.application.memory_service.mem0_client import mem0_client\n",
    "\n",
    "mem0_available = mem0_client.is_enabled()\n",
    "print('Mem0 client ready:', mem0_available)\n",
    "\n",
    "if not mem0_available:\n",
    "    print('Mem0 did not initialize. Confirm API keys are set and mem0_enabled=true before proceeding.')"
   ]
  },
  {
   "cell_type": "markdown",
   "metadata": {},
   "source": [
    "---\n",
    "## 4. Helper Utilities\n",
    "These helpers keep state across the workflow steps and make it easy to inspect responses."
   ]
  },
  {
   "cell_type": "code",
   "execution_count": 4,
   "metadata": {},
   "outputs": [
    {
     "name": "stdout",
     "output_type": "stream",
     "text": [
      "\n",
      "=== Identifiers ===\n",
      "{\n",
      "  \"user_id\": \"mem0-notebook-user\",\n",
      "  \"session_id\": \"mem0-notebook-session-20251024222215\",\n",
      "  \"agent_id\": \"mem0-notebook-agent\"\n",
      "}\n"
     ]
    }
   ],
   "source": [
    "import json\n",
    "from datetime import datetime\n",
    "from typing import Any, Dict\n",
    "\n",
    "def pretty_print(label: str, payload: Any) -> None:\n",
    "    \"\"\"Utility to pretty-print Mem0 responses.\"\"\"\n",
    "    print(f'\\n=== {label} ===')\n",
    "    if payload is None:\n",
    "        print('None')\n",
    "        return\n",
    "    if isinstance(payload, (dict, list)):\n",
    "        print(json.dumps(payload, indent=2, default=str))\n",
    "    else:\n",
    "        print(payload)\n",
    "\n",
    "def make_run_ids(prefix: str = 'mem0-notebook') -> Dict[str, str]:\n",
    "    timestamp = datetime.utcnow().strftime('%Y%m%d%H%M%S')\n",
    "    return {\n",
    "        'user_id': f'{prefix}-user',\n",
    "        'session_id': f'{prefix}-session-{timestamp}',\n",
    "        'agent_id': f'{prefix}-agent'\n",
    "    }\n",
    "\n",
    "mem0_ids: Dict[str, str] = {}\n",
    "last_memory_id: str | None = None\n",
    "\n",
    "if mem0_available:\n",
    "    mem0_ids = make_run_ids()\n",
    "    pretty_print('Identifiers', mem0_ids)\n",
    "else:\n",
    "    print('Skipping helper initialization because Mem0 is unavailable.')"
   ]
  },
  {
   "cell_type": "markdown",
   "metadata": {},
   "source": [
    "---\n",
    "## 5. Workflow: Add Conversation to Memory"
   ]
  },
  {
   "cell_type": "code",
   "execution_count": 5,
   "metadata": {},
   "outputs": [
    {
     "name": "stderr",
     "output_type": "stream",
     "text": [
      "\u001b[32m2025-10-24 18:22:34.342\u001b[0m | \u001b[1mINFO    \u001b[0m | \u001b[36macc_llamaindex.application.memory_service.mem0_client\u001b[0m:\u001b[36madd\u001b[0m:\u001b[36m108\u001b[0m - \u001b[1mAdded memory for user=mem0-notebook-user, run=mem0-notebook-session-20251024222215\u001b[0m\n"
     ]
    },
    {
     "name": "stdout",
     "output_type": "stream",
     "text": [
      "\n",
      "=== Add Result ===\n",
      "{\n",
      "  \"results\": [\n",
      "    {\n",
      "      \"id\": \"f59a2928-fae8-4453-8262-32ee1e3f1838\",\n",
      "      \"memory\": \"Incoterms used: FOB Lagos\",\n",
      "      \"event\": \"ADD\"\n",
      "    }\n",
      "  ]\n",
      "}\n",
      "Stored memory id: None\n"
     ]
    }
   ],
   "source": [
    "if mem0_available:\n",
    "    messages = [\n",
    "        {\n",
    "            'role': 'user',\n",
    "            'content': 'Can you remind me which Incoterms we used for the Lagos textiles shipment?'\n",
    "        },\n",
    "        {\n",
    "            'role': 'assistant',\n",
    "            'content': 'We agreed on FOB Lagos for that shipment.'\n",
    "        }\n",
    "    ]\n",
    "    add_result = mem0_client.add(\n",
    "        messages=messages,\n",
    "        user_id=mem0_ids['user_id'],\n",
    "        agent_id=mem0_ids['agent_id'],\n",
    "        session_id=mem0_ids['session_id'],\n",
    "        metadata={'channel': 'notebook-demo'}\n",
    "    )\n",
    "    pretty_print('Add Result', add_result)\n",
    "    last_memory_id = add_result.get('memory', {}).get('id') or add_result.get('id')\n",
    "    print('Stored memory id:', last_memory_id)\n",
    "else:\n",
    "    print('Mem0 unavailable; skip add workflow.')"
   ]
  },
  {
   "cell_type": "markdown",
   "metadata": {},
   "source": [
    "---\n",
    "## 6. Workflow: Search Memories"
   ]
  },
  {
   "cell_type": "code",
   "execution_count": null,
   "metadata": {},
   "outputs": [
    {
     "name": "stderr",
     "output_type": "stream",
     "text": [
      "\u001b[32m2025-10-24 18:26:36.698\u001b[0m | \u001b[1mINFO    \u001b[0m | \u001b[36macc_llamaindex.application.memory_service.mem0_client\u001b[0m:\u001b[36msearch\u001b[0m:\u001b[36m148\u001b[0m - \u001b[1mFound 1 memories for query='FOB Lagos shipment reminder...', user=mem0-notebook-user, session=mem0-notebook-session-20251024222215\u001b[0m\n"
     ]
    },
    {
     "name": "stdout",
     "output_type": "stream",
     "text": [
      "\n",
      "=== Search Results ===\n",
      "{\n",
      "  \"results\": [\n",
      "    {\n",
      "      \"id\": \"f59a2928-fae8-4453-8262-32ee1e3f1838\",\n",
      "      \"memory\": \"Incoterms used: FOB Lagos\",\n",
      "      \"hash\": \"4144db44a5d292fab283bf5fe3cd2c66\",\n",
      "      \"metadata\": {\n",
      "        \"channel\": \"notebook-demo\"\n",
      "      },\n",
      "      \"score\": 0.4477316737174988,\n",
      "      \"created_at\": \"2025-10-24T15:22:34.337177-07:00\",\n",
      "      \"updated_at\": null,\n",
      "      \"user_id\": \"mem0-notebook-user\",\n",
      "      \"agent_id\": \"mem0-notebook-agent\",\n",
      "      \"run_id\": \"mem0-notebook-session-20251024222215\"\n",
      "    }\n",
      "  ]\n",
      "}\n",
      "Memory id from search: f59a2928-fae8-4453-8262-32ee1e3f1838\n"
     ]
    }
   ],
   "source": [
    "if mem0_available:\n",
    "    search_results = mem0_client.search(\n",
    "        query='FOB Lagos shipment reminder',\n",
    "        user_id=mem0_ids['user_id'],\n",
    "        session_id=mem0_ids['session_id'],\n",
    "        limit=5 \n",
    "    )\n",
    "    # Extract 'results' array then get the first result\n",
    "    results_list = search_results.get('results', [])\n",
    "    pretty_print('Search Results', search_results)\n",
    "    if results_list:\n",
    "        last_memory_id = results_list[0].get('id') \n",
    "        print('Memory id from search:', last_memory_id)\n",
    "else:\n",
    "    print('Mem0 unavailable; skip search workflow.')"
   ]
  },
  {
   "cell_type": "markdown",
   "metadata": {},
   "source": [
    "---\n",
    "## 7. Workflow: Get All Memories"
   ]
  },
  {
   "cell_type": "code",
   "execution_count": 14,
   "metadata": {},
   "outputs": [
    {
     "name": "stderr",
     "output_type": "stream",
     "text": [
      "\u001b[32m2025-10-24 20:38:03.656\u001b[0m | \u001b[1mINFO    \u001b[0m | \u001b[36macc_llamaindex.application.memory_service.mem0_client\u001b[0m:\u001b[36mget_all\u001b[0m:\u001b[36m185\u001b[0m - \u001b[1mRetrieved 1 memories for user=mem0-notebook-user, agent=None, session=mem0-notebook-session-20251024222215\u001b[0m\n"
     ]
    },
    {
     "name": "stdout",
     "output_type": "stream",
     "text": [
      "\n",
      "=== All Memories ===\n",
      "{\n",
      "  \"results\": [\n",
      "    {\n",
      "      \"id\": \"f59a2928-fae8-4453-8262-32ee1e3f1838\",\n",
      "      \"memory\": \"Customer prefers FOB Lagos for textiles shipments; remind proactively.\",\n",
      "      \"hash\": \"b261da6cd8bbf2da5867f8598b9dd25f\",\n",
      "      \"metadata\": {\n",
      "        \"channel\": \"notebook-demo\"\n",
      "      },\n",
      "      \"created_at\": \"2025-10-24T15:22:34.337177-07:00\",\n",
      "      \"updated_at\": \"2025-10-24T16:12:31.767721-07:00\",\n",
      "      \"user_id\": \"mem0-notebook-user\",\n",
      "      \"agent_id\": \"mem0-notebook-agent\",\n",
      "      \"run_id\": \"mem0-notebook-session-20251024222215\"\n",
      "    }\n",
      "  ]\n",
      "}\n"
     ]
    }
   ],
   "source": [
    "if mem0_available:\n",
    "    all_memories = mem0_client.get_all(\n",
    "        user_id=mem0_ids['user_id'],\n",
    "        session_id=mem0_ids['session_id']\n",
    "    )\n",
    "    pretty_print('All Memories', all_memories)\n",
    "    if all_memories and not last_memory_id:\n",
    "        last_memory_id = all_memories[0].get('id')\n",
    "        print('Memory id from get_all:', last_memory_id)\n",
    "else:\n",
    "    print('Mem0 unavailable; skip get_all workflow.')"
   ]
  },
  {
   "cell_type": "markdown",
   "metadata": {},
   "source": [
    "---\n",
    "## 8. Workflow: Update a Memory"
   ]
  },
  {
   "cell_type": "code",
   "execution_count": 13,
   "metadata": {},
   "outputs": [
    {
     "name": "stderr",
     "output_type": "stream",
     "text": [
      "\u001b[32m2025-10-24 19:12:31.777\u001b[0m | \u001b[1mINFO    \u001b[0m | \u001b[36macc_llamaindex.application.memory_service.mem0_client\u001b[0m:\u001b[36mupdate\u001b[0m:\u001b[36m235\u001b[0m - \u001b[1mUpdated memory f59a2928-fae8-4453-8262-32ee1e3f1838\u001b[0m\n"
     ]
    },
    {
     "name": "stdout",
     "output_type": "stream",
     "text": [
      "\n",
      "=== Update Result ===\n",
      "{\n",
      "  \"message\": \"Memory updated successfully!\"\n",
      "}\n"
     ]
    }
   ],
   "source": [
    "if mem0_available and last_memory_id:\n",
    "    update_payload = 'Customer prefers FOB Lagos for textiles shipments; remind proactively.'\n",
    "    update_result = mem0_client.update(last_memory_id, update_payload)\n",
    "    pretty_print('Update Result', update_result)\n",
    "else:\n",
    "    print('Skipping update; either Mem0 unavailable or no memory id captured.')"
   ]
  },
  {
   "cell_type": "markdown",
   "metadata": {},
   "source": [
    "---\n",
    "## 9. Workflow: Inspect Memory History"
   ]
  },
  {
   "cell_type": "code",
   "execution_count": 15,
   "metadata": {},
   "outputs": [
    {
     "name": "stderr",
     "output_type": "stream",
     "text": [
      "\u001b[32m2025-10-24 20:42:03.922\u001b[0m | \u001b[1mINFO    \u001b[0m | \u001b[36macc_llamaindex.application.memory_service.mem0_client\u001b[0m:\u001b[36mhistory\u001b[0m:\u001b[36m258\u001b[0m - \u001b[1mRetrieved history for memory f59a2928-fae8-4453-8262-32ee1e3f1838\u001b[0m\n"
     ]
    },
    {
     "name": "stdout",
     "output_type": "stream",
     "text": [
      "\n",
      "=== History ===\n",
      "[\n",
      "  {\n",
      "    \"id\": \"14392461-9376-48a9-9adc-f4b0c0ccb9b5\",\n",
      "    \"memory_id\": \"f59a2928-fae8-4453-8262-32ee1e3f1838\",\n",
      "    \"old_memory\": null,\n",
      "    \"new_memory\": \"Incoterms used: FOB Lagos\",\n",
      "    \"event\": \"ADD\",\n",
      "    \"created_at\": \"2025-10-24T15:22:34.337177-07:00\",\n",
      "    \"updated_at\": null,\n",
      "    \"is_deleted\": false,\n",
      "    \"actor_id\": null,\n",
      "    \"role\": null\n",
      "  },\n",
      "  {\n",
      "    \"id\": \"1e3fcc9a-6451-459f-96d7-07f8b6eaed0c\",\n",
      "    \"memory_id\": \"f59a2928-fae8-4453-8262-32ee1e3f1838\",\n",
      "    \"old_memory\": \"Incoterms used: FOB Lagos\",\n",
      "    \"new_memory\": \"Customer prefers FOB Lagos for textiles shipments; remind proactively.\",\n",
      "    \"event\": \"UPDATE\",\n",
      "    \"created_at\": \"2025-10-24T15:22:34.337177-07:00\",\n",
      "    \"updated_at\": \"2025-10-24T16:12:31.767721-07:00\",\n",
      "    \"is_deleted\": false,\n",
      "    \"actor_id\": null,\n",
      "    \"role\": null\n",
      "  }\n",
      "]\n"
     ]
    }
   ],
   "source": [
    "if mem0_available and last_memory_id:\n",
    "    history_result = mem0_client.history(last_memory_id)\n",
    "    pretty_print('History', history_result)\n",
    "else:\n",
    "    print('Skipping history; either Mem0 unavailable or no memory id captured.')"
   ]
  },
  {
   "cell_type": "markdown",
   "metadata": {},
   "source": [
    "---\n",
    "## 10. Workflow: Reset Memories (Optional)\n",
    "Be cautious with resets in shared environments. Use filters to target only the identifiers created in this notebook."
   ]
  },
  {
   "cell_type": "code",
   "execution_count": null,
   "metadata": {},
   "outputs": [],
   "source": [
    "if mem0_available:\n",
    "    should_reset = False  # Flip to True when you want to clear the notebook data\n",
    "    if should_reset:\n",
    "        reset_result = mem0_client.reset(\n",
    "            user_id=mem0_ids['user_id'],\n",
    "            session_id=mem0_ids['session_id']\n",
    "        )\n",
    "        pretty_print('Reset Executed', reset_result)\n",
    "    else:\n",
    "        print('Reset skipped. Set should_reset=True to clear notebook data.')\n",
    "else:\n",
    "    print('Mem0 unavailable; skip reset workflow.')"
   ]
  },
  {
   "cell_type": "markdown",
   "metadata": {},
   "source": [
    "---\n",
    "## 11. API Routes Reference\n",
    "The FastAPI routes in `src/acc_llamaindex/infrastructure/api/routes/memory_routes.py` expose the same Mem0 operations.\n",
    "Use them to validate behavior outside this notebook (e.g., with `curl` or Postman).\n",
    "\n",
    "```bash\n",
    "# Health check\n",
    "curl http://localhost:8000/memory/health\n",
    "\n",
    "# Search memories\n",
    "curl -X POST http://localhost:8000/memory/search \\\n",
    "  -H 'Content-Type: application/json' \\\n",
    "  -d '{\"query\": \"FOB Lagos\", \"user_id\": \"mem0-notebook-user\"}'\n",
    "```"
   ]
  },
  {
   "cell_type": "markdown",
   "metadata": {},
   "source": [
    "---\n",
    "## 12. Next Steps\n",
    "1. Run the notebook end-to-end with Mem0 enabled to seed working data.\n",
    "2. Experiment with additional metadata filters and search queries.\n",
    "3. Integrate the workflows into automated tests or eval pipelines as needed."
   ]
  }
 ],
 "metadata": {
  "kernelspec": {
   "display_name": ".venv",
   "language": "python",
   "name": "python3"
  },
  "language_info": {
   "codemirror_mode": {
    "name": "ipython",
    "version": 3
   },
   "file_extension": ".py",
   "mimetype": "text/x-python",
   "name": "python",
   "nbconvert_exporter": "python",
   "pygments_lexer": "ipython3",
   "version": "3.11.9"
  }
 },
 "nbformat": 4,
 "nbformat_minor": 5
}
